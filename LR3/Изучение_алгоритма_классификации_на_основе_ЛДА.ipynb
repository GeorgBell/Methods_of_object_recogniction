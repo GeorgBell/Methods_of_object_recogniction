{
 "cells": [
  {
   "cell_type": "markdown",
   "metadata": {
    "colab_type": "text",
    "id": "dVyFwroD7SjL"
   },
   "source": [
    "# Отчет к лабораторной работе №3 \"Изучение алгоритма классификации на основе метода линейного дискриминантного анализа\"\n",
    "# по курсу: «Методы и техника распознавания образов»\n",
    "## Выполнил студент группы БМТ1-22М Колокольников Георгий"
   ]
  },
  {
   "cell_type": "markdown",
   "metadata": {
    "colab_type": "text",
    "id": "8rfYd_sj70ni"
   },
   "source": [
    "## Цель работы:\n",
    "### Изучить основы применения метода линейного дискриминантного анализа для решения задач классификации."
   ]
  },
  {
   "cell_type": "markdown",
   "metadata": {
    "colab_type": "text",
    "id": "T-M6HGAyL0fU"
   },
   "source": [
    "## Задание 1. Определение байесовской ошибки классификации"
   ]
  },
  {
   "cell_type": "markdown",
   "metadata": {
    "colab_type": "text",
    "id": "mvoiovg0MJck"
   },
   "source": [
    "0. Импортируем необходимые программные пакеты"
   ]
  },
  {
   "cell_type": "code",
   "execution_count": 1,
   "metadata": {
    "colab": {},
    "colab_type": "code",
    "id": "sIr97bEDL7Pd"
   },
   "outputs": [],
   "source": [
    "import numpy as np\n",
    "import matplotlib.pyplot as plt\n",
    "import scipy.optimize as sci_opt\n",
    "from math import sqrt, exp, pi\n",
    "from scipy.stats import norm"
   ]
  },
  {
   "cell_type": "markdown",
   "metadata": {
    "colab_type": "text",
    "id": "eREUONzmNSR1"
   },
   "source": [
    "1. Для двух классов выполнить расчет координат «идеального» проекционного вектора методом ЛДА. Условные вероятности данных в каждом из классов подчиняются двумерному нормальному распределению с параметрами:    \n",
    "-первый класс: среднее значение = [1; 3], СКО = [0,7; 0,8], коэффициент корреляции = 0,2.    \n",
    "-второй класс: среднее значение = [3;2], СКО = [0,3; 1,8], коэффициент корреляции = 0,7.   \n",
    "При расчете принять априорные вероятности классов одинаковыми.\n"
   ]
  },
  {
   "cell_type": "code",
   "execution_count": 2,
   "metadata": {
    "colab": {},
    "colab_type": "code",
    "id": "HY361lfcMvTu"
   },
   "outputs": [],
   "source": [
    "# First class parameters\n",
    "mean_1 = np.array([1, 3]) # Mean value\n",
    "std_1 = np.array([0.7, 0.8]) # Standard deviation\n",
    "cor_coef_1 = 0.2 # Correlation coefficient\n",
    "prob_1 = 0.5 # Class 1 prior probability\n",
    "# Correlation matrix\n",
    "sigma_1 = np.array([[std_1[0]**2, cor_coef_1*std_1[0]*std_1[1]],\n",
    "                         [cor_coef_1*std_1[0]*std_1[1], std_1[1]**2]])\n",
    "\n",
    "\n",
    "# Second class parameters\n",
    "mean_2 = np.array([3, 2]) # Mean value\n",
    "std_2 = np.array([0.3, 1.8]) # Standard deviation\n",
    "cor_coef_2 = 0.7 # Correlation coefficient\n",
    "prob_2 = 0.5 # Class 2 prior probability\n",
    "# Correlation matrix\n",
    "sigma_2 = np.array([[std_2[0]**2, cor_coef_2*std_2[0]*std_2[1]],\n",
    "                         [cor_coef_2*std_2[0]*std_2[1], std_2[1]**2]])\n",
    "\n",
    "\n",
    "# Within class difference matrix\n",
    "Sw = 0.5*sigma_1 + 0.5*sigma_2\n",
    "\n",
    "# Ideal projection vector\n",
    "w_id = np.dot(np.linalg.inv(Sw),(mean_1 - mean_2))"
   ]
  },
  {
   "cell_type": "code",
   "execution_count": 3,
   "metadata": {
    "colab": {
     "base_uri": "https://localhost:8080/",
     "height": 52
    },
    "colab_type": "code",
    "executionInfo": {
     "elapsed": 325,
     "status": "ok",
     "timestamp": 1555876117954,
     "user": {
      "displayName": "George Kolokolnikov",
      "photoUrl": "",
      "userId": "10444614174775037077"
     },
     "user_tz": -180
    },
    "id": "2FVprqyQ_Kvo",
    "outputId": "9ad33422-6248-420b-a103-bf4f0c7ab2a4"
   },
   "outputs": [
    {
     "data": {
      "text/plain": [
       "array([[0.09 , 0.378],\n",
       "       [0.378, 3.24 ]])"
      ]
     },
     "execution_count": 3,
     "metadata": {},
     "output_type": "execute_result"
    }
   ],
   "source": [
    "sigma_2"
   ]
  },
  {
   "cell_type": "markdown",
   "metadata": {
    "colab_type": "text",
    "id": "tOu4YnU_8mSJ"
   },
   "source": [
    "Получены координаты идеального вектора:"
   ]
  },
  {
   "cell_type": "code",
   "execution_count": 4,
   "metadata": {
    "colab": {
     "base_uri": "https://localhost:8080/",
     "height": 35
    },
    "colab_type": "code",
    "executionInfo": {
     "elapsed": 474,
     "status": "ok",
     "timestamp": 1555876119039,
     "user": {
      "displayName": "George Kolokolnikov",
      "photoUrl": "",
      "userId": "10444614174775037077"
     },
     "user_tz": -180
    },
    "id": "1o1o78lh7zw_",
    "outputId": "1c9723cf-51e1-4e8e-f6a4-491cdd2c6d4f"
   },
   "outputs": [
    {
     "data": {
      "text/plain": [
       "array([-8.20773019,  1.55200716])"
      ]
     },
     "execution_count": 4,
     "metadata": {},
     "output_type": "execute_result"
    }
   ],
   "source": [
    "w_id"
   ]
  },
  {
   "cell_type": "markdown",
   "metadata": {
    "colab_type": "text",
    "id": "iyyQtqM38wNY"
   },
   "source": [
    "2. Рассчитать байесовскую ошибку классификации. Для этого:  \n",
    "-рассчитать параметры условных вероятностных распределений после проекции данных на «идеальный» проекционный вектор,   \n",
    "-найти оптимальное пороговое значение для классификации,  \n",
    "-найти вероятности ошибочной классификации в одну и другую стороны."
   ]
  },
  {
   "cell_type": "code",
   "execution_count": 5,
   "metadata": {
    "colab": {},
    "colab_type": "code",
    "id": "i7V72erh7xdT"
   },
   "outputs": [],
   "source": [
    "# Distribution parameters in the new space\n",
    "mean_new_1 = np.dot(w_id.T, mean_1)\n",
    "mean_new_2 = np.dot(w_id.T, mean_2)\n",
    "\n",
    "sigma_new_1 = np.linalg.multi_dot([w_id.T, sigma_1, w_id])\n",
    "sigma_new_2 = np.linalg.multi_dot([w_id.T, sigma_2, w_id])"
   ]
  },
  {
   "cell_type": "markdown",
   "metadata": {
    "colab_type": "text",
    "id": "5K5cOSfvACLA"
   },
   "source": [
    "Параметры условных вероятностных распределений после проекции данных на идеальный проекционный вектор:"
   ]
  },
  {
   "cell_type": "code",
   "execution_count": 6,
   "metadata": {
    "colab": {
     "base_uri": "https://localhost:8080/",
     "height": 87
    },
    "colab_type": "code",
    "executionInfo": {
     "elapsed": 495,
     "status": "ok",
     "timestamp": 1555876122137,
     "user": {
      "displayName": "George Kolokolnikov",
      "photoUrl": "",
      "userId": "10444614174775037077"
     },
     "user_tz": -180
    },
    "id": "iJNW13_u_3oq",
    "outputId": "a84bc713-d824-46bd-c2da-f83d2e54c572"
   },
   "outputs": [
    {
     "name": "stdout",
     "output_type": "stream",
     "text": [
      "Среднее значение для первого класса: -3.55 \n",
      "Среднее значение для второго класса: -21.52 \n",
      "СКО для первого класса: 31.70 \n",
      "СКО для второго класса: 4.24\n"
     ]
    }
   ],
   "source": [
    "print(\"Среднее значение для первого класса: %.2f\" % mean_new_1,\n",
    "      \"\\nСреднее значение для второго класса: %.2f\" % mean_new_2,\n",
    "      \"\\nСКО для первого класса: %.2f\" % sigma_new_1,\n",
    "      \"\\nСКО для второго класса: %.2f\" % sigma_new_2)"
   ]
  },
  {
   "cell_type": "markdown",
   "metadata": {
    "colab_type": "text",
    "id": "o6EOXj0RCAhJ"
   },
   "source": [
    "Найдем оптимальное пороговое значение для классификации, для чего зададим функционал на интервале [min(μ_1',μ_2');max(μ_1^,μ_2^) ]:  "
   ]
  },
  {
   "cell_type": "code",
   "execution_count": 7,
   "metadata": {
    "colab": {},
    "colab_type": "code",
    "id": "AWagVPVsGUjl"
   },
   "outputs": [],
   "source": [
    "def functional(y):\n",
    "  return (prob_1*np.exp(-((y - mean_new_1)**2)/(2*sigma_new_1)))/np.sqrt(2*pi*sigma_new_1) - \\\n",
    "         (prob_2*np.exp(-((y - mean_new_2)**2)/(2*sigma_new_2)))/np.sqrt(2*pi*sigma_new_2)\n",
    "\n",
    "min_point = min(mean_new_1, mean_new_2)\n",
    "max_point = max(mean_new_1, mean_new_2)"
   ]
  },
  {
   "cell_type": "code",
   "execution_count": 8,
   "metadata": {
    "colab": {},
    "colab_type": "code",
    "id": "maH8uxVM_OMA"
   },
   "outputs": [],
   "source": [
    "y_thr = sci_opt.fsolve(functional, -10)"
   ]
  },
  {
   "cell_type": "code",
   "execution_count": 9,
   "metadata": {
    "colab": {
     "base_uri": "https://localhost:8080/",
     "height": 295
    },
    "colab_type": "code",
    "executionInfo": {
     "elapsed": 1001,
     "status": "ok",
     "timestamp": 1555876126710,
     "user": {
      "displayName": "George Kolokolnikov",
      "photoUrl": "",
      "userId": "10444614174775037077"
     },
     "user_tz": -180
    },
    "id": "Xg8xdR_EDKEI",
    "outputId": "210e98ef-2353-4945-aa84-5bacb4ae763a"
   },
   "outputs": [
    {
     "data": {
      "image/png": "[encoded data removed]",
      "text/plain": [
       "<Figure size 432x288 with 1 Axes>"
      ]
     },
     "metadata": {},
     "output_type": "display_data"
    }
   ],
   "source": [
    "plt.plot(np.arange(-100, 100), functional(np.arange(-100, 100)), label=\"Функционал\")\n",
    "plt.scatter(y_thr[0], 0, c=\"r\", label=\"Найденная точка\")\n",
    "plt.title(\"Рисунок 1. Отображение Функционала с найденной точкой\")\n",
    "plt.legend()\n",
    "plt.xlabel(\"Диапазон\")\n",
    "plt.ylabel(\"Значение функционала\")\n",
    "plt.grid()\n",
    "plt.show()"
   ]
  },
  {
   "cell_type": "markdown",
   "metadata": {
    "colab_type": "text",
    "id": "BQokIz3lPtC3"
   },
   "source": [
    "Найдем байесовскую ошибку попадания в интервал [Z2,Z1], где    \n",
    "Zb1 - вероятность классификации граничного объекта в 1 класс,   \n",
    "Zb2 - вероятность классификации граничного объекта во 2 класс."
   ]
  },
  {
   "cell_type": "code",
   "execution_count": 10,
   "metadata": {
    "colab": {},
    "colab_type": "code",
    "id": "czg8rtorP7q-"
   },
   "outputs": [],
   "source": [
    "Zb2 = (y_thr[0] - mean_new_2)/sqrt(sigma_new_2)\n",
    "Zb1 = (y_thr[0] - mean_new_1)/sqrt(sigma_new_1)"
   ]
  },
  {
   "cell_type": "markdown",
   "metadata": {
    "colab_type": "text",
    "id": "_eu5c4gqRIKW"
   },
   "source": [
    "Сложение площадей под кривыми нормального распределения соответственно правее и левее пороговой точки (оценка суммарной ошибки)."
   ]
  },
  {
   "cell_type": "code",
   "execution_count": 11,
   "metadata": {
    "colab": {},
    "colab_type": "code",
    "id": "FLJVnij9P7oY"
   },
   "outputs": [],
   "source": [
    "Err_b = 1 - norm.cdf(Zb2) + norm.cdf(Zb1)"
   ]
  },
  {
   "cell_type": "markdown",
   "metadata": {
    "colab_type": "text",
    "id": "-R-zJcMASCiG"
   },
   "source": [
    "Величина Байесовской ошибки классификации"
   ]
  },
  {
   "cell_type": "code",
   "execution_count": 12,
   "metadata": {
    "colab": {
     "base_uri": "https://localhost:8080/",
     "height": 35
    },
    "colab_type": "code",
    "executionInfo": {
     "elapsed": 654,
     "status": "ok",
     "timestamp": 1555876136600,
     "user": {
      "displayName": "George Kolokolnikov",
      "photoUrl": "",
      "userId": "10444614174775037077"
     },
     "user_tz": -180
    },
    "id": "7TrmEvYPP7l-",
    "outputId": "69f6b13c-e9e5-4dd5-80d1-5fa1c171b99e"
   },
   "outputs": [
    {
     "name": "stdout",
     "output_type": "stream",
     "text": [
      "Величина Байесовской ошибки классификации: 0.02\n"
     ]
    }
   ],
   "source": [
    "print(\"Величина Байесовской ошибки классификации: %.2f\" % Err_b)"
   ]
  },
  {
   "cell_type": "markdown",
   "metadata": {
    "colab_type": "text",
    "id": "9QdJ4UXyTvWX"
   },
   "source": [
    "3. Построить зависимость вероятности ошибочной классификации от порогового значения. Убедиться, что байесовская ошибка является наименьшей возможной вероятностью ошибочной классификации."
   ]
  },
  {
   "cell_type": "markdown",
   "metadata": {
    "colab_type": "text",
    "id": "IIdPflDuT4qG"
   },
   "source": [
    "Диапазон варьирования порога и шаг"
   ]
  },
  {
   "cell_type": "code",
   "execution_count": 13,
   "metadata": {
    "colab": {},
    "colab_type": "code",
    "id": "mjU68nWqP7SG"
   },
   "outputs": [],
   "source": [
    "min_point = min(mean_new_1, mean_new_2)\n",
    "max_point = max(mean_new_1, mean_new_2)\n",
    "step = 0.1\n",
    "variation_range = np.arange(min_point, max_point, step)"
   ]
  },
  {
   "cell_type": "markdown",
   "metadata": {
    "colab_type": "text",
    "id": "uytrMIuRVU43"
   },
   "source": [
    "Для удобства вычисления значений на каждой итерации напишем функции"
   ]
  },
  {
   "cell_type": "code",
   "execution_count": 14,
   "metadata": {
    "colab": {},
    "colab_type": "code",
    "id": "BRqkOg14UGSe"
   },
   "outputs": [],
   "source": [
    "def Zb1(ythr):\n",
    "  return (ythr - mean_new_1)/sqrt(sigma_new_1)\n",
    "\n",
    "def Zb2(ythr):\n",
    "  return (ythr - mean_new_2)/sqrt(sigma_new_2)\n",
    "\n",
    "def Err(ythr):\n",
    "  return 1 - norm.cdf(Zb2(ythr)) + norm.cdf(Zb1(ythr))"
   ]
  },
  {
   "cell_type": "markdown",
   "metadata": {
    "colab_type": "text",
    "id": "WCixSyogVdp7"
   },
   "source": [
    "Построим зависимость Err(y_thr)"
   ]
  },
  {
   "cell_type": "code",
   "execution_count": 15,
   "metadata": {
    "colab": {
     "base_uri": "https://localhost:8080/",
     "height": 295
    },
    "colab_type": "code",
    "executionInfo": {
     "elapsed": 867,
     "status": "ok",
     "timestamp": 1555876142101,
     "user": {
      "displayName": "George Kolokolnikov",
      "photoUrl": "",
      "userId": "10444614174775037077"
     },
     "user_tz": -180
    },
    "id": "2cBqpHgQUGQP",
    "outputId": "766f36f0-c382-40a7-8abe-eb22e1f0c03a"
   },
   "outputs": [
    {
     "data": {
      "image/png": "[encoded data removed]",
      "text/plain": [
       "<Figure size 432x288 with 1 Axes>"
      ]
     },
     "metadata": {},
     "output_type": "display_data"
    }
   ],
   "source": [
    "plt.scatter(y_thr[0], Err(y_thr[0]), c=\"r\", label='Байесовская ошибка')\n",
    "plt.plot(variation_range, Err(variation_range), label='Err(y_thr)')\n",
    "plt.title(\"Рисунок 2. Зависимость вероятности ошибочной классификации от порогового значения\")\n",
    "plt.xlabel(\"Пороговое значение\")\n",
    "plt.ylabel(\"Вероятность ошибочной классификации\")\n",
    "plt.legend()\n",
    "plt.grid()\n",
    "plt.show()"
   ]
  },
  {
   "cell_type": "markdown",
   "metadata": {
    "colab_type": "text",
    "id": "spW05_EmXzW2"
   },
   "source": [
    "Из рисунка 2 следует, что байесовская ошибка является наименьшей возможной вероятностью ошибочной классификации."
   ]
  },
  {
   "cell_type": "markdown",
   "metadata": {
    "colab_type": "text",
    "id": "memU8uDsYQ0n"
   },
   "source": [
    "## Задание 2. Построение классификатора методом ЛДА"
   ]
  },
  {
   "cell_type": "markdown",
   "metadata": {
    "colab_type": "text",
    "id": "M-h7kqdGY4TH"
   },
   "source": [
    "1. Для каждого из описанных в задании 1 классов сгенерировать по два набора данных: группу обучения и группу контроля. Общее число примеров обоих классов в группе обучения – 6000, в группе контроля – 2000. Принять оба класса равновероятными."
   ]
  },
  {
   "cell_type": "markdown",
   "metadata": {
    "colab_type": "text",
    "id": "mhC1gI_AY-ff"
   },
   "source": [
    "Параметры первого класса"
   ]
  },
  {
   "cell_type": "code",
   "execution_count": 50,
   "metadata": {
    "colab": {},
    "colab_type": "code",
    "id": "JWqjWya6UGOA"
   },
   "outputs": [],
   "source": [
    "# First class parameters\n",
    "N_train = 200 # Number of samples in training set\n",
    "N_test = 2000 # Number of samples in testing set\n",
    "mean_1 = np.array([1, 3]) # Mean value\n",
    "std_1 = np.array([0.7, 0.8]) # Standard deviation\n",
    "cor_coef_1 = 0.2 # Correlation coefficient\n",
    "prob_1 = 0.5 # Class 1 prior probability\n",
    "# Correlation matrix\n",
    "sigma_1 = np.array([[std_1[0]**2, cor_coef_1*std_1[0]*std_1[1]],\n",
    "                         [cor_coef_1*std_1[0]*std_1[1], std_1[1]**2]])"
   ]
  },
  {
   "cell_type": "markdown",
   "metadata": {
    "colab_type": "text",
    "id": "7F8felfgZG2f"
   },
   "source": [
    "Генерирование наборов данных"
   ]
  },
  {
   "cell_type": "code",
   "execution_count": 51,
   "metadata": {
    "colab": {},
    "colab_type": "code",
    "id": "jxniu84eUGLu"
   },
   "outputs": [],
   "source": [
    "train_data_1 = np.random.multivariate_normal(mean_1, sigma_1, size=N_train)\n",
    "test_data_1 = np.random.multivariate_normal(mean_1, sigma_1, size=N_test)"
   ]
  },
  {
   "cell_type": "markdown",
   "metadata": {
    "colab_type": "text",
    "id": "mbgr9QmeaBBo"
   },
   "source": [
    "Параметры второго класса"
   ]
  },
  {
   "cell_type": "code",
   "execution_count": 52,
   "metadata": {
    "colab": {},
    "colab_type": "code",
    "id": "Xgc04V2HUGJW"
   },
   "outputs": [],
   "source": [
    "# Second class parameters\n",
    "N_train = 200 # Number of samples in training set\n",
    "N_test = 2000 # Number of samples in testing set\n",
    "mean_2 = np.array([3, 2]) # Mean value\n",
    "std_2 = np.array([0.3, 1.8]) # Standard deviation\n",
    "cor_coef_2 = 0.7 # Correlation coefficient\n",
    "prob_2 = 0.5 # Class 2 prior probability\n",
    "# Correlation matrix\n",
    "sigma_2 = np.array([[std_2[0]**2, cor_coef_2*std_2[0]*std_2[1]],\n",
    "                         [cor_coef_2*std_2[0]*std_2[1], std_2[1]**2]])"
   ]
  },
  {
   "cell_type": "markdown",
   "metadata": {
    "colab_type": "text",
    "id": "qop0IOvDaMKX"
   },
   "source": [
    "Генерирование наборов данных"
   ]
  },
  {
   "cell_type": "code",
   "execution_count": 53,
   "metadata": {
    "colab": {},
    "colab_type": "code",
    "id": "GkbSHZqyUGBe"
   },
   "outputs": [],
   "source": [
    "train_data_2 = np.random.multivariate_normal(mean_2, sigma_2, size=N_train)\n",
    "test_data_2 = np.random.multivariate_normal(mean_2, sigma_2, size=N_test)"
   ]
  },
  {
   "cell_type": "code",
   "execution_count": 54,
   "metadata": {
    "colab": {
     "base_uri": "https://localhost:8080/",
     "height": 35
    },
    "colab_type": "code",
    "executionInfo": {
     "elapsed": 519,
     "status": "ok",
     "timestamp": 1555878021987,
     "user": {
      "displayName": "George Kolokolnikov",
      "photoUrl": "",
      "userId": "10444614174775037077"
     },
     "user_tz": -180
    },
    "id": "wubGVodnaaFw",
    "outputId": "7624a2bf-0b99-404c-9d91-f3bf65064363"
   },
   "outputs": [
    {
     "data": {
      "text/plain": [
       "(200, 2)"
      ]
     },
     "execution_count": 54,
     "metadata": {},
     "output_type": "execute_result"
    }
   ],
   "source": [
    "train_data_2.shape"
   ]
  },
  {
   "cell_type": "markdown",
   "metadata": {
    "colab_type": "text",
    "id": "uGVSpTGjaWpf"
   },
   "source": [
    "Построим классы на плоскости исходного пространства"
   ]
  },
  {
   "cell_type": "code",
   "execution_count": 55,
   "metadata": {
    "colab": {
     "base_uri": "https://localhost:8080/",
     "height": 281
    },
    "colab_type": "code",
    "executionInfo": {
     "elapsed": 893,
     "status": "ok",
     "timestamp": 1555878022943,
     "user": {
      "displayName": "George Kolokolnikov",
      "photoUrl": "",
      "userId": "10444614174775037077"
     },
     "user_tz": -180
    },
    "id": "ltjI_JMSal4_",
    "outputId": "fc5ae491-36f7-4182-aca1-131cc41236b4"
   },
   "outputs": [
    {
     "data": {
      "image/png": "[encoded data removed]",
      "text/plain": [
       "<Figure size 432x288 with 1 Axes>"
      ]
     },
     "metadata": {},
     "output_type": "display_data"
    }
   ],
   "source": [
    "plt.scatter(train_data_2[:,0], train_data_2[:,1], label='Исходное отображений класса №2', alpha=0.7)\n",
    "plt.scatter(train_data_1[:,0], train_data_1[:,1], label='Исходное отображений класса №1', alpha=0.7)\n",
    "plt.title(\"Рисунок 3. Отображение классов\")\n",
    "plt.legend()\n",
    "plt.show()"
   ]
  },
  {
   "cell_type": "markdown",
   "metadata": {
    "colab_type": "text",
    "id": "2TqJsRWHiLfA"
   },
   "source": [
    "2. По группе обучения выполнить расчет проекционного вектора методом ЛДА."
   ]
  },
  {
   "cell_type": "markdown",
   "metadata": {
    "colab_type": "text",
    "id": "PtZUmLt_lHCP"
   },
   "source": [
    "Расчет матриц внутриклассовых разбросов и общей матрицы внутриклассового разброса."
   ]
  },
  {
   "cell_type": "code",
   "execution_count": 56,
   "metadata": {
    "colab": {},
    "colab_type": "code",
    "id": "JHaYC3FMj7ro"
   },
   "outputs": [],
   "source": [
    "Sw1 = (N_train -1)*np.cov(train_data_1.T)\n",
    "Sw2 = (N_train -1)*np.cov(train_data_2.T)\n",
    "Sw = Sw1 + Sw2"
   ]
  },
  {
   "cell_type": "markdown",
   "metadata": {
    "colab_type": "text",
    "id": "1tEIu-pnmCLY"
   },
   "source": [
    "Расчет вектора перехода"
   ]
  },
  {
   "cell_type": "code",
   "execution_count": 57,
   "metadata": {
    "colab": {},
    "colab_type": "code",
    "id": "qfws4dkBmDSY"
   },
   "outputs": [],
   "source": [
    "W = np.dot(np.linalg.inv(Sw),(mean_1 - mean_2).T)"
   ]
  },
  {
   "cell_type": "markdown",
   "metadata": {
    "colab_type": "text",
    "id": "McyYVUNzmy4K"
   },
   "source": [
    "Определение коэффициентов разделяющей прямой"
   ]
  },
  {
   "cell_type": "code",
   "execution_count": 58,
   "metadata": {
    "colab": {},
    "colab_type": "code",
    "id": "XZaFL4Ommlp_"
   },
   "outputs": [],
   "source": [
    "Y1 = W.T*train_data_1\n",
    "Y2 = W.T*train_data_2\n",
    "b = W[1]/W[0]\n",
    "X = np.append(train_data_1[:,0], train_data_2[:,0])\n",
    "Y = np.append(train_data_1[:,1], train_data_2[:,1])\n",
    "a = np.mean(Y) - b*np.mean(X)"
   ]
  },
  {
   "cell_type": "markdown",
   "metadata": {
    "colab_type": "text",
    "id": "bnTL0GGLngwD"
   },
   "source": [
    "Построение разделяющей прямой"
   ]
  },
  {
   "cell_type": "code",
   "execution_count": 59,
   "metadata": {
    "colab": {
     "base_uri": "https://localhost:8080/",
     "height": 281
    },
    "colab_type": "code",
    "executionInfo": {
     "elapsed": 1357,
     "status": "ok",
     "timestamp": 1555878026991,
     "user": {
      "displayName": "George Kolokolnikov",
      "photoUrl": "",
      "userId": "10444614174775037077"
     },
     "user_tz": -180
    },
    "id": "LUvtUHryngQS",
    "outputId": "b10fa392-d480-40ec-8f98-6efa8c5075ff"
   },
   "outputs": [
    {
     "data": {
      "image/png": "[encoded data removed]",
      "text/plain": [
       "<Figure size 432x288 with 1 Axes>"
      ]
     },
     "metadata": {},
     "output_type": "display_data"
    }
   ],
   "source": [
    "Y_devide = a+b*X\n",
    "plt.scatter(train_data_2[:,0], train_data_2[:,1], label='Исходное отображений класса №2', alpha=0.7)\n",
    "plt.scatter(train_data_1[:,0], train_data_1[:,1], label='Исходное отображений класса №1', alpha=0.7)\n",
    "plt.plot(X,Y_devide, label='Прямая ЛДА', c=\"r\")\n",
    "plt.title(\"Рисунок 4. Отображение классов и прямой, полученной методом ЛДА\")\n",
    "plt.legend()\n",
    "plt.show()"
   ]
  },
  {
   "cell_type": "markdown",
   "metadata": {
    "colab_type": "text",
    "id": "kx4bHQaTt90g"
   },
   "source": [
    "3. Спроецировать данные из группы обучения на построенный вектор и определить пороговое значение, для которого суммарная частота ошибочной классификации будет минимальна."
   ]
  },
  {
   "cell_type": "markdown",
   "metadata": {
    "colab_type": "text",
    "id": "ATQD1uvHo5po"
   },
   "source": [
    "Проекция данных в новое подпространство и расчет новых параметров распределения признаков"
   ]
  },
  {
   "cell_type": "code",
   "execution_count": 60,
   "metadata": {
    "colab": {},
    "colab_type": "code",
    "id": "7tKKYUQgnXhx"
   },
   "outputs": [],
   "source": [
    "# Distribution parameters in the new space\n",
    "mean_new_1 = np.dot(W.T, mean_1)\n",
    "mean_new_2 = np.dot(W.T, mean_2)\n",
    "\n",
    "sigma_new_1 = np.linalg.multi_dot([W.T, sigma_1, W])\n",
    "sigma_new_2 = np.linalg.multi_dot([W.T, sigma_2, W])"
   ]
  },
  {
   "cell_type": "code",
   "execution_count": 61,
   "metadata": {
    "colab": {
     "base_uri": "https://localhost:8080/",
     "height": 281
    },
    "colab_type": "code",
    "executionInfo": {
     "elapsed": 883,
     "status": "ok",
     "timestamp": 1555878028866,
     "user": {
      "displayName": "George Kolokolnikov",
      "photoUrl": "",
      "userId": "10444614174775037077"
     },
     "user_tz": -180
    },
    "id": "pfNOflhvxMoJ",
    "outputId": "87cb656d-dd6b-43e2-f44f-61453f74d65d"
   },
   "outputs": [
    {
     "data": {
      "image/png": "[encoded data removed]",
      "text/plain": [
       "<Figure size 432x288 with 1 Axes>"
      ]
     },
     "metadata": {},
     "output_type": "display_data"
    }
   ],
   "source": [
    "y1 = a+b*train_data_1[:,0]\n",
    "y2 = a+b*train_data_2[:,0]\n",
    "\n",
    "plt.scatter(train_data_1[:,0],y1, label='Класс №1 на прямой', alpha=0.5)\n",
    "plt.scatter(train_data_2[:,0],y2, label='Класс №2 на прямой', alpha=0.5)\n",
    "plt.title(\"Рисунок 5. Проекция данных в новое подпространство\")\n",
    "plt.legend()\n",
    "plt.grid()\n",
    "plt.show()"
   ]
  },
  {
   "cell_type": "code",
   "execution_count": 62,
   "metadata": {
    "colab": {
     "base_uri": "https://localhost:8080/",
     "height": 281
    },
    "colab_type": "code",
    "executionInfo": {
     "elapsed": 1369,
     "status": "ok",
     "timestamp": 1555878029674,
     "user": {
      "displayName": "George Kolokolnikov",
      "photoUrl": "",
      "userId": "10444614174775037077"
     },
     "user_tz": -180
    },
    "id": "rfws0HJ6wydw",
    "outputId": "ffe8a82e-bf77-477b-8e03-5f126262d016"
   },
   "outputs": [
    {
     "data": {
      "image/png": "[encoded data removed]",
      "text/plain": [
       "<Figure size 432x288 with 1 Axes>"
      ]
     },
     "metadata": {},
     "output_type": "display_data"
    }
   ],
   "source": [
    "binwidth = 0.01\n",
    "plt.hist(y1, bins=np.arange(min(y1), max(y1) + binwidth, binwidth), label='Класс №1', alpha=1.0)\n",
    "plt.hist(y2, bins=np.arange(min(y2), max(y2) + binwidth, binwidth), label='Класс №2', alpha=0.7)\n",
    "plt.title(\"Рисунок 6. Гистограмма значений, полученного признака\")\n",
    "plt.legend()\n",
    "plt.grid()\n",
    "plt.show()"
   ]
  },
  {
   "cell_type": "markdown",
   "metadata": {
    "colab_type": "text",
    "id": "JHWnAT_58H_E"
   },
   "source": [
    "Определим пороговое значение y_thr_new"
   ]
  },
  {
   "cell_type": "code",
   "execution_count": 63,
   "metadata": {
    "colab": {},
    "colab_type": "code",
    "id": "wFP8w8W3-i7g"
   },
   "outputs": [],
   "source": [
    "# Calculate histograms\n",
    "y1_hist = np.histogram(y1, bins=np.arange(min(y1), max(y1) + binwidth, binwidth))\n",
    "y2_hist = np.histogram(y2, bins=np.arange(min(y2), max(y2) + binwidth, binwidth))\n",
    "\n",
    "# Find peaks of histograms\n",
    "y1_max = max(y1_hist[0])\n",
    "y2_max = max(y2_hist[0])\n",
    "\n",
    "# Find location of peaks\n",
    "y1_max_coord = y1_hist[1][np.argwhere(y1_hist[0]==y1_max)[0][0]]\n",
    "y2_max_coord = y2_hist[1][np.argwhere(y2_hist[0]==y2_max)[0][0]]"
   ]
  },
  {
   "cell_type": "code",
   "execution_count": 64,
   "metadata": {
    "colab": {
     "base_uri": "https://localhost:8080/",
     "height": 69
    },
    "colab_type": "code",
    "executionInfo": {
     "elapsed": 911,
     "status": "ok",
     "timestamp": 1555878032462,
     "user": {
      "displayName": "George Kolokolnikov",
      "photoUrl": "",
      "userId": "10444614174775037077"
     },
     "user_tz": -180
    },
    "id": "rGz-vdb_sD6c",
    "outputId": "6917aa0a-b01e-47ca-ce4c-712f743d7ed7"
   },
   "outputs": [
    {
     "name": "stdout",
     "output_type": "stream",
     "text": [
      "Максимальные значения на гистограмме:\n",
      "Для первого класса: 10  достигается при  2.62981706830839 \n",
      "Для второго класса: 23  достигается при  2.3214858124624933\n"
     ]
    }
   ],
   "source": [
    "print(\"Максимальные значения на гистограмме:\\nДля первого класса:\", y1_max, \" достигается при \", y1_max_coord,\n",
    "      \"\\nДля второго класса:\", y2_max, \" достигается при \", y2_max_coord,)"
   ]
  },
  {
   "cell_type": "markdown",
   "metadata": {
    "colab_type": "text",
    "id": "J0cpo6KE99pO"
   },
   "source": [
    "Создать набор порогов"
   ]
  },
  {
   "cell_type": "code",
   "execution_count": 65,
   "metadata": {
    "colab": {},
    "colab_type": "code",
    "id": "4r-3zniTvROC"
   },
   "outputs": [],
   "source": [
    "threshold_range = np.arange(y2_max_coord, y1_max_coord, 0.01)"
   ]
  },
  {
   "cell_type": "markdown",
   "metadata": {
    "colab_type": "text",
    "id": "cUhOCYeL-Cys"
   },
   "source": [
    "Функция для расчета суммарной частоты ошибочной классификации"
   ]
  },
  {
   "cell_type": "code",
   "execution_count": 66,
   "metadata": {
    "colab": {},
    "colab_type": "code",
    "id": "iiHxn559znHj"
   },
   "outputs": [],
   "source": [
    "def count_rel_error(hist_1, hist_2, thr):\n",
    "  err_1 = np.sum(hist_1[0][np.nonzero(hist_1[1] < thr)[0]])\n",
    "  err_2 = np.sum(hist_2[0][np.nonzero(hist_2[1] > thr)[0]-1])\n",
    "  return (err_1+err_2)/(2*N_train)"
   ]
  },
  {
   "cell_type": "code",
   "execution_count": 67,
   "metadata": {
    "colab": {},
    "colab_type": "code",
    "id": "JI6_1_vH3rQj"
   },
   "outputs": [],
   "source": [
    "error_range = np.array([count_rel_error(y1_hist, y2_hist, thr_x) for thr_x in threshold_range])\n",
    "thr_new = threshold_range[np.argmin(error_range)]"
   ]
  },
  {
   "cell_type": "code",
   "execution_count": 68,
   "metadata": {
    "colab": {
     "base_uri": "https://localhost:8080/",
     "height": 295
    },
    "colab_type": "code",
    "executionInfo": {
     "elapsed": 805,
     "status": "ok",
     "timestamp": 1555878037578,
     "user": {
      "displayName": "George Kolokolnikov",
      "photoUrl": "",
      "userId": "10444614174775037077"
     },
     "user_tz": -180
    },
    "id": "R-rTzEaB2_hE",
    "outputId": "3b699eeb-afec-44cb-adc0-235a61db1b44"
   },
   "outputs": [
    {
     "data": {
      "image/png": "[encoded data removed]",
      "text/plain": [
       "<Figure size 432x288 with 1 Axes>"
      ]
     },
     "metadata": {},
     "output_type": "display_data"
    }
   ],
   "source": [
    "plt.scatter(thr_new, np.min(error_range), c=\"r\", label='Threshold')\n",
    "plt.plot(threshold_range, error_range, label='Значение относительной ошибки')\n",
    "plt.title(\"Рисунок 7. Зависимость относительной ошибки классификации от порогового значения\")\n",
    "plt.xlabel(\"Пороговое значение\")\n",
    "plt.ylabel(\"Ошибка классификации\")\n",
    "plt.legend()\n",
    "plt.grid()\n",
    "plt.show()"
   ]
  },
  {
   "cell_type": "code",
   "execution_count": 69,
   "metadata": {
    "colab": {
     "base_uri": "https://localhost:8080/",
     "height": 281
    },
    "colab_type": "code",
    "executionInfo": {
     "elapsed": 920,
     "status": "ok",
     "timestamp": 1555878039619,
     "user": {
      "displayName": "George Kolokolnikov",
      "photoUrl": "",
      "userId": "10444614174775037077"
     },
     "user_tz": -180
    },
    "id": "s92443hn64SM",
    "outputId": "a7df2011-f518-4ae3-94ba-ddc9b8a0ffaa",
    "scrolled": true
   },
   "outputs": [
    {
     "data": {
      "image/png": "[encoded data removed]",
      "text/plain": [
       "<Figure size 432x288 with 1 Axes>"
      ]
     },
     "metadata": {},
     "output_type": "display_data"
    }
   ],
   "source": [
    "binwidth = 0.01\n",
    "plt.hist(y1, bins=np.arange(min(y1), max(y1) + binwidth, binwidth), label='Класс №1', alpha=1.0)\n",
    "plt.hist(y2, bins=np.arange(min(y2), max(y2) + binwidth, binwidth), label='Класс №2', alpha=0.7)\n",
    "plt.axvline(thr_new, color='r', linestyle='dashed', linewidth=3, label='Порог')\n",
    "plt.title(\"Рисунок 8. Гистограмма значений с порогом\")\n",
    "plt.legend()\n",
    "plt.grid()\n",
    "plt.show()"
   ]
  },
  {
   "cell_type": "code",
   "execution_count": 70,
   "metadata": {
    "colab": {
     "base_uri": "https://localhost:8080/",
     "height": 35
    },
    "colab_type": "code",
    "executionInfo": {
     "elapsed": 684,
     "status": "ok",
     "timestamp": 1555878041484,
     "user": {
      "displayName": "George Kolokolnikov",
      "photoUrl": "",
      "userId": "10444614174775037077"
     },
     "user_tz": -180
    },
    "id": "uBkWxIQ9_wZK",
    "outputId": "4022d8ec-c66d-4a6c-a510-9581a27c10bc"
   },
   "outputs": [
    {
     "name": "stdout",
     "output_type": "stream",
     "text": [
      "Ошибка на тренировочной выборке составила: 0.0175\n"
     ]
    }
   ],
   "source": [
    "print(\"Ошибка на тренировочной выборке составила: %.4f\" % np.min(error_range))"
   ]
  },
  {
   "cell_type": "code",
   "execution_count": 73,
   "metadata": {},
   "outputs": [],
   "source": [
    "error_on_200 = np.min(error_range)"
   ]
  },
  {
   "cell_type": "markdown",
   "metadata": {
    "colab_type": "text",
    "id": "wKpxGW_y-RDB"
   },
   "source": [
    "4. Рассчитать относительную частоту ошибочной классификации при применении построенного классификатора к группе контроля. "
   ]
  },
  {
   "cell_type": "markdown",
   "metadata": {
    "colab_type": "text",
    "id": "boacWkik-kvK"
   },
   "source": [
    "Проекция тренирововочных данных"
   ]
  },
  {
   "cell_type": "code",
   "execution_count": 37,
   "metadata": {
    "colab": {},
    "colab_type": "code",
    "id": "noyAo9_vwqRY"
   },
   "outputs": [],
   "source": [
    "y1_test = a+b*test_data_1[:,0]\n",
    "y2_test = a+b*test_data_2[:,0]"
   ]
  },
  {
   "cell_type": "code",
   "execution_count": 38,
   "metadata": {
    "colab": {},
    "colab_type": "code",
    "id": "4z1nRetHwqO7"
   },
   "outputs": [],
   "source": [
    "# Calculate histograms\n",
    "y1_hist_test = np.histogram(y1_test, bins=np.arange(min(y1_test), max(y1_test) + binwidth, binwidth))\n",
    "y2_hist_test = np.histogram(y2_test, bins=np.arange(min(y2_test), max(y2_test) + binwidth, binwidth))"
   ]
  },
  {
   "cell_type": "code",
   "execution_count": 39,
   "metadata": {
    "colab": {},
    "colab_type": "code",
    "id": "PjD4kNjDwqJf"
   },
   "outputs": [],
   "source": [
    "error_test = count_rel_error(y1_hist_test, y2_hist_test, thr_new)"
   ]
  },
  {
   "cell_type": "code",
   "execution_count": 40,
   "metadata": {
    "colab": {
     "base_uri": "https://localhost:8080/",
     "height": 35
    },
    "colab_type": "code",
    "executionInfo": {
     "elapsed": 806,
     "status": "ok",
     "timestamp": 1555878109620,
     "user": {
      "displayName": "George Kolokolnikov",
      "photoUrl": "",
      "userId": "10444614174775037077"
     },
     "user_tz": -180
    },
    "id": "_VTPDVFe_TAB",
    "outputId": "bbc298d5-fbd2-4bd6-b2d6-c6c548fba5c0"
   },
   "outputs": [
    {
     "name": "stdout",
     "output_type": "stream",
     "text": [
      "Ошибка на тестовой выборке составила: 0.01\n"
     ]
    }
   ],
   "source": [
    "print(\"Ошибка на тестовой выборке составила: %.2f\" % error_test)"
   ]
  },
  {
   "cell_type": "code",
   "execution_count": 41,
   "metadata": {
    "colab": {
     "base_uri": "https://localhost:8080/",
     "height": 281
    },
    "colab_type": "code",
    "executionInfo": {
     "elapsed": 1508,
     "status": "ok",
     "timestamp": 1555878110507,
     "user": {
      "displayName": "George Kolokolnikov",
      "photoUrl": "",
      "userId": "10444614174775037077"
     },
     "user_tz": -180
    },
    "id": "h4vkeKbc__Qb",
    "outputId": "6edb2e1c-bf41-46a7-b672-38ab13f3659c"
   },
   "outputs": [
    {
     "data": {
      "image/png": "[encoded data removed]",
      "text/plain": [
       "<Figure size 432x288 with 1 Axes>"
      ]
     },
     "metadata": {},
     "output_type": "display_data"
    }
   ],
   "source": [
    "binwidth = 0.01\n",
    "plt.hist(y1_test, bins=np.arange(min(y1_test), max(y1_test) + binwidth, binwidth), label='Класс №1 тестовый', alpha=1.0)\n",
    "plt.hist(y2_test, bins=np.arange(min(y2_test), max(y2_test) + binwidth, binwidth), label='Класс №2 тестовый', alpha=0.7)\n",
    "plt.axvline(thr_new, color='r', linestyle='dashed', linewidth=3, label='Порог')\n",
    "plt.title(\"Рисунок 9. Гистограмма значений с порогом для тестовой выборки\")\n",
    "plt.legend()\n",
    "plt.grid()\n",
    "plt.show()"
   ]
  },
  {
   "cell_type": "markdown",
   "metadata": {
    "colab_type": "text",
    "id": "AYbPhqKL6eML"
   },
   "source": [
    "5. Рассчитать относительную частоту ошибочной классификации примеров группы контроля при использовании проекционного вектора и порогового значения, полученных ранее в задании 1. Сравнить полученные значения относительных частот ошибочной классификации."
   ]
  },
  {
   "cell_type": "code",
   "execution_count": 42,
   "metadata": {
    "colab": {},
    "colab_type": "code",
    "id": "39O6rNqM6hAw"
   },
   "outputs": [],
   "source": [
    "# Distribution parameters in the ideal space\n",
    "mean_id_1 = np.dot(w_id.T, mean_1)\n",
    "mean_id_2 = np.dot(w_id.T, mean_2)\n",
    "\n",
    "sigma_id_1 = np.linalg.multi_dot([w_id.T, sigma_1, w_id])\n",
    "sigma_id_2 = np.linalg.multi_dot([w_id.T, sigma_2, w_id])"
   ]
  },
  {
   "cell_type": "markdown",
   "metadata": {
    "colab_type": "text",
    "id": "TOPBTTBD7JeR"
   },
   "source": [
    "Построение разделяющей прямой по идеальному вектору"
   ]
  },
  {
   "cell_type": "code",
   "execution_count": 43,
   "metadata": {
    "colab": {},
    "colab_type": "code",
    "id": "l8Gdh4_K7BiA"
   },
   "outputs": [],
   "source": [
    "Y1_id = w_id.T*train_data_1\n",
    "Y2_id = w_id.T*train_data_2\n",
    "b_id = w_id[1]/w_id[0]\n",
    "X_id = np.append(train_data_1[:,0], train_data_2[:,0])\n",
    "Y_id = np.append(train_data_1[:,1], train_data_2[:,1])\n",
    "a_id = np.mean(Y_id) - b*np.mean(X_id)\n",
    "Y_devide_id = a_id+b_id*X_id\n",
    "coeff = 18.55"
   ]
  },
  {
   "cell_type": "code",
   "execution_count": 44,
   "metadata": {
    "colab": {
     "base_uri": "https://localhost:8080/",
     "height": 281
    },
    "colab_type": "code",
    "executionInfo": {
     "elapsed": 1415,
     "status": "ok",
     "timestamp": 1555878115505,
     "user": {
      "displayName": "George Kolokolnikov",
      "photoUrl": "",
      "userId": "10444614174775037077"
     },
     "user_tz": -180
    },
    "id": "4v2GCpnv7mEB",
    "outputId": "47e354d8-dd60-4261-e5a3-4e79110b8a77"
   },
   "outputs": [
    {
     "data": {
      "image/png": "[encoded data removed]",
      "text/plain": [
       "<Figure size 432x288 with 1 Axes>"
      ]
     },
     "metadata": {},
     "output_type": "display_data"
    }
   ],
   "source": [
    "plt.scatter(train_data_2[:,0], train_data_2[:,1], label='Исходное отображений класса №2', alpha=0.7)\n",
    "plt.scatter(train_data_1[:,0], train_data_1[:,1], label='Исходное отображений класса №1', alpha=0.7)\n",
    "plt.plot(X_id,Y_devide_id, label='Идеальная прямая ЛДА', c=\"r\")\n",
    "plt.title(\"Рисунок 10. Прямая ЛДА, построенная по идеальному вектору\")\n",
    "plt.legend()\n",
    "plt.show()"
   ]
  },
  {
   "cell_type": "code",
   "execution_count": 45,
   "metadata": {
    "colab": {},
    "colab_type": "code",
    "id": "8WH5AysK_KXx"
   },
   "outputs": [],
   "source": [
    "y1_id = a_id+b_id*test_data_1[:,0]\n",
    "y2_id = a_id+b_id*test_data_2[:,0]"
   ]
  },
  {
   "cell_type": "code",
   "execution_count": 46,
   "metadata": {
    "colab": {},
    "colab_type": "code",
    "id": "w5kzg-6IBMXG"
   },
   "outputs": [],
   "source": [
    "# Calculate histograms\n",
    "y1_hist_id = np.histogram(y1_id, bins=np.arange(min(y1_id), max(y1_id) + binwidth, binwidth))\n",
    "y2_hist_id = np.histogram(y2_id, bins=np.arange(min(y2_id), max(y2_id) + binwidth, binwidth))\n",
    "y_thr = y_thr[0]"
   ]
  },
  {
   "cell_type": "code",
   "execution_count": 47,
   "metadata": {
    "colab": {
     "base_uri": "https://localhost:8080/",
     "height": 35
    },
    "colab_type": "code",
    "executionInfo": {
     "elapsed": 489,
     "status": "ok",
     "timestamp": 1555878393296,
     "user": {
      "displayName": "George Kolokolnikov",
      "photoUrl": "",
      "userId": "10444614174775037077"
     },
     "user_tz": -180
    },
    "id": "_gSIz38BC2fp",
    "outputId": "fb630874-ad98-4ed2-f040-5ca6dda1d996"
   },
   "outputs": [
    {
     "name": "stdout",
     "output_type": "stream",
     "text": [
      "Ошибка на тестовой выборке составила: 0.17\n"
     ]
    }
   ],
   "source": [
    "error_id = count_rel_error(y1_hist_id, y2_hist_id, y_thr)\n",
    "print(\"Ошибка на тестовой выборке составила: %.2f\" % error_id)"
   ]
  },
  {
   "cell_type": "markdown",
   "metadata": {
    "colab_type": "text",
    "id": "uf0SF0xx_JV5"
   },
   "source": [
    "6. Повторить пп.1-5 для размера обучающей выборки 200. Сделать выводы."
   ]
  },
  {
   "cell_type": "code",
   "execution_count": 75,
   "metadata": {
    "colab": {
     "base_uri": "https://localhost:8080/",
     "height": 35
    },
    "colab_type": "code",
    "executionInfo": {
     "elapsed": 631,
     "status": "ok",
     "timestamp": 1555878094494,
     "user": {
      "displayName": "George Kolokolnikov",
      "photoUrl": "",
      "userId": "10444614174775037077"
     },
     "user_tz": -180
    },
    "id": "khXUjUMr_I_j",
    "outputId": "a816b50a-9d08-4501-905f-8231b67f9172"
   },
   "outputs": [
    {
     "name": "stdout",
     "output_type": "stream",
     "text": [
      "Ошибка при меньшей выборке: 0.0175\n"
     ]
    }
   ],
   "source": [
    "print(\"Ошибка при меньшей выборке: %.4f\" % error_on_200)"
   ]
  },
  {
   "cell_type": "markdown",
   "metadata": {
    "colab_type": "text",
    "id": "AAnkeEzak4Sg"
   },
   "source": [
    "## Заключение"
   ]
  },
  {
   "cell_type": "markdown",
   "metadata": {
    "colab_type": "text",
    "id": "okmMgxjWmZnR"
   },
   "source": [
    "1. Байесовская ошибка классификации является наименьшей из возможных, что подтверждается построенной зависимостью вероятности ошибочной классификации от порогового значения.\n",
    "2. Ошибка классификации при построеннии идеального вектора (в соответствии с байесовской ошибкой классификации) меньше, чем ошибка, полученная при построении проекционного вектора по обучающим данным.\n",
    "3. С увеличением объема обучающей выборки точность классификации должна увеличиваться, при этом в случае тестирования на малой выборке, ошибка будет меньше, чем в случае тестирования на большой."
   ]
  }
 ],
 "metadata": {
  "accelerator": "GPU",
  "colab": {
   "collapsed_sections": [],
   "name": "Изучение_алгоритма_классификации_на_основе_ЛДА.ipynb",
   "provenance": [],
   "version": "0.3.2"
  },
  "kernelspec": {
   "display_name": "Python 3",
   "language": "python",
   "name": "python3"
  },
  "language_info": {
   "codemirror_mode": {
    "name": "ipython",
    "version": 3
   },
   "file_extension": ".py",
   "mimetype": "text/x-python",
   "name": "python",
   "nbconvert_exporter": "python",
   "pygments_lexer": "ipython3",
   "version": "3.6.5"
  }
 },
 "nbformat": 4,
 "nbformat_minor": 1
}
